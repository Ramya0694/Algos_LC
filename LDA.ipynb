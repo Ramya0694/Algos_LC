{
  "nbformat": 4,
  "nbformat_minor": 0,
  "metadata": {
    "colab": {
      "name": "LDA.ipynb",
      "provenance": [],
      "collapsed_sections": [],
      "mount_file_id": "1NZTqjP41juGqSNUuR5h3OpSdOZF-_ilx",
      "authorship_tag": "ABX9TyNbi49y4JkEk1AwPkpFC8XA",
      "include_colab_link": true
    },
    "kernelspec": {
      "name": "python3",
      "display_name": "Python 3"
    }
  },
  "cells": [
    {
      "cell_type": "markdown",
      "metadata": {
        "id": "view-in-github",
        "colab_type": "text"
      },
      "source": [
        "<a href=\"https://colab.research.google.com/github/Ramya0694/algos/blob/master/LDA.ipynb\" target=\"_parent\"><img src=\"https://colab.research.google.com/assets/colab-badge.svg\" alt=\"Open In Colab\"/></a>"
      ]
    },
    {
      "cell_type": "code",
      "metadata": {
        "colab": {
          "base_uri": "https://localhost:8080/"
        },
        "id": "fnvp2yoz8DXe",
        "outputId": "08a6ccfe-b23f-4695-f77f-683992c07f3b"
      },
      "source": [
        "!apt install chromium-chromedriver\n",
        "!cp /usr/lib/chromium-browser/chromedriver /usr/bin\n",
        "!pip install selenium"
      ],
      "execution_count": null,
      "outputs": [
        {
          "output_type": "stream",
          "text": [
            "Reading package lists... Done\n",
            "Building dependency tree       \n",
            "Reading state information... Done\n",
            "The following additional packages will be installed:\n",
            "  chromium-browser chromium-browser-l10n chromium-codecs-ffmpeg-extra\n",
            "Suggested packages:\n",
            "  webaccounts-chromium-extension unity-chromium-extension adobe-flashplugin\n",
            "The following NEW packages will be installed:\n",
            "  chromium-browser chromium-browser-l10n chromium-chromedriver\n",
            "  chromium-codecs-ffmpeg-extra\n",
            "0 upgraded, 4 newly installed, 0 to remove and 13 not upgraded.\n",
            "Need to get 81.0 MB of archives.\n",
            "After this operation, 273 MB of additional disk space will be used.\n",
            "Get:1 http://archive.ubuntu.com/ubuntu bionic-updates/universe amd64 chromium-codecs-ffmpeg-extra amd64 87.0.4280.66-0ubuntu0.18.04.1 [1,122 kB]\n",
            "Get:2 http://archive.ubuntu.com/ubuntu bionic-updates/universe amd64 chromium-browser amd64 87.0.4280.66-0ubuntu0.18.04.1 [71.7 MB]\n",
            "Get:3 http://archive.ubuntu.com/ubuntu bionic-updates/universe amd64 chromium-browser-l10n all 87.0.4280.66-0ubuntu0.18.04.1 [3,716 kB]\n",
            "Get:4 http://archive.ubuntu.com/ubuntu bionic-updates/universe amd64 chromium-chromedriver amd64 87.0.4280.66-0ubuntu0.18.04.1 [4,488 kB]\n",
            "Fetched 81.0 MB in 5s (15.4 MB/s)\n",
            "Selecting previously unselected package chromium-codecs-ffmpeg-extra.\n",
            "(Reading database ... 146374 files and directories currently installed.)\n",
            "Preparing to unpack .../chromium-codecs-ffmpeg-extra_87.0.4280.66-0ubuntu0.18.04.1_amd64.deb ...\n",
            "Unpacking chromium-codecs-ffmpeg-extra (87.0.4280.66-0ubuntu0.18.04.1) ...\n",
            "Selecting previously unselected package chromium-browser.\n",
            "Preparing to unpack .../chromium-browser_87.0.4280.66-0ubuntu0.18.04.1_amd64.deb ...\n",
            "Unpacking chromium-browser (87.0.4280.66-0ubuntu0.18.04.1) ...\n",
            "Selecting previously unselected package chromium-browser-l10n.\n",
            "Preparing to unpack .../chromium-browser-l10n_87.0.4280.66-0ubuntu0.18.04.1_all.deb ...\n",
            "Unpacking chromium-browser-l10n (87.0.4280.66-0ubuntu0.18.04.1) ...\n",
            "Selecting previously unselected package chromium-chromedriver.\n",
            "Preparing to unpack .../chromium-chromedriver_87.0.4280.66-0ubuntu0.18.04.1_amd64.deb ...\n",
            "Unpacking chromium-chromedriver (87.0.4280.66-0ubuntu0.18.04.1) ...\n",
            "Setting up chromium-codecs-ffmpeg-extra (87.0.4280.66-0ubuntu0.18.04.1) ...\n",
            "Setting up chromium-browser (87.0.4280.66-0ubuntu0.18.04.1) ...\n",
            "update-alternatives: using /usr/bin/chromium-browser to provide /usr/bin/x-www-browser (x-www-browser) in auto mode\n",
            "update-alternatives: using /usr/bin/chromium-browser to provide /usr/bin/gnome-www-browser (gnome-www-browser) in auto mode\n",
            "Setting up chromium-chromedriver (87.0.4280.66-0ubuntu0.18.04.1) ...\n",
            "Setting up chromium-browser-l10n (87.0.4280.66-0ubuntu0.18.04.1) ...\n",
            "Processing triggers for hicolor-icon-theme (0.17-2) ...\n",
            "Processing triggers for mime-support (3.60ubuntu1) ...\n",
            "Processing triggers for man-db (2.8.3-2ubuntu0.1) ...\n",
            "cp: '/usr/lib/chromium-browser/chromedriver' and '/usr/bin/chromedriver' are the same file\n",
            "Collecting selenium\n",
            "\u001b[?25l  Downloading https://files.pythonhosted.org/packages/80/d6/4294f0b4bce4de0abf13e17190289f9d0613b0a44e5dd6a7f5ca98459853/selenium-3.141.0-py2.py3-none-any.whl (904kB)\n",
            "\u001b[K     |████████████████████████████████| 911kB 7.3MB/s \n",
            "\u001b[?25hRequirement already satisfied: urllib3 in /usr/local/lib/python3.6/dist-packages (from selenium) (1.24.3)\n",
            "Installing collected packages: selenium\n",
            "Successfully installed selenium-3.141.0\n"
          ],
          "name": "stdout"
        }
      ]
    },
    {
      "cell_type": "code",
      "metadata": {
        "colab": {
          "base_uri": "https://localhost:8080/"
        },
        "id": "w78UOLPq7K6-",
        "outputId": "75b12aa1-405d-4a90-dee7-90f3e4d60329"
      },
      "source": [
        "from selenium import webdriver\n",
        "from selenium.webdriver.chrome.options import Options\n",
        "from selenium.webdriver.support.ui import Select\n",
        "from gensim.utils import simple_preprocess\n",
        "import nltk\n",
        "nltk.download('stopwords')\n",
        "from nltk.corpus import stopwords\n",
        "import gensim.corpora as corpora\n",
        "import gensim\n",
        "from bs4 import BeautifulSoup\n",
        "from sklearn.metrics.pairwise import cosine_similarity\n",
        "import matplotlib.pyplot as plt\n",
        "import numpy as np"
      ],
      "execution_count": null,
      "outputs": [
        {
          "output_type": "stream",
          "text": [
            "[nltk_data] Downloading package stopwords to /root/nltk_data...\n",
            "[nltk_data]   Package stopwords is already up-to-date!\n"
          ],
          "name": "stdout"
        }
      ]
    },
    {
      "cell_type": "code",
      "metadata": {
        "id": "Qf28Qql21gQB"
      },
      "source": [
        "def get_driver():\n",
        "  options = webdriver.ChromeOptions()\n",
        "  options.add_argument('--headless')\n",
        "  options.add_argument('--no-sandbox')\n",
        "  options.add_argument('--disable-dev-shm-usage')\n",
        "  options.add_argument(\"--disable-infobars\")\n",
        "  # open it, go to a website, and get results\n",
        "  wd = webdriver.Chrome('chromedriver',options=options)\n",
        "  return wd"
      ],
      "execution_count": null,
      "outputs": []
    },
    {
      "cell_type": "code",
      "metadata": {
        "id": "Yf7jUolqwnr1"
      },
      "source": [
        "# open it, go to a website, and get results\n",
        "wd = get_driver()\n",
        "\n",
        "items = []\n",
        "\n",
        "for i in range(1,45):\n",
        "  wd.get('https://alsusweb.lbl.gov:1024/4DCGI/WEB_GetForm/PublicationSearch.shtml/Initialize') \n",
        "  select = Select(wd.find_element_by_xpath(\"//select[@name='PUB_Beamline']\"))\n",
        "  select.select_by_value(\"8.3.2 (Tomography)\")\n",
        "\n",
        "  wd.find_element_by_name('Submit').click()\n",
        "  if(i != 1):\n",
        "    wd.find_element_by_link_text(str(i)).click()\n",
        "\n",
        "  bs = BeautifulSoup(wd.page_source)\n",
        "  table = bs.find(lambda tag: tag.name=='table' and tag.has_attr('boarder') and tag['boarder']==\" BGCOLOR=\") \n",
        "  rows = table.findAll(lambda tag: tag.name=='td')\n",
        "\n",
        "  for row in rows[1:]:\n",
        "    items.append(row)"
      ],
      "execution_count": null,
      "outputs": []
    },
    {
      "cell_type": "code",
      "metadata": {
        "id": "8YUJcMfgx_4M"
      },
      "source": [
        "titles = []\n",
        "hrefs = []\n",
        "\n",
        "for row in items:\n",
        "    text = row.get_text()\n",
        "    href = row.find(lambda tag: tag.name=='a' and tag.has_attr('href'))\n",
        "    if(href):\n",
        "      hrefs.append(href['href'])\n",
        "    else:\n",
        "      hrefs.append(\"\")\n",
        "    start = text.index(\"\\\"\")\n",
        "    text1 = text[start:]\n",
        "    title = text1.split(\"\\\"\")[1]\n",
        "    titles.append(title)"
      ],
      "execution_count": null,
      "outputs": []
    },
    {
      "cell_type": "code",
      "metadata": {
        "id": "0ZtAO_hles8L"
      },
      "source": [
        "def preprocess_lda(data):\n",
        "  stop_words = stopwords.words('english')\n",
        "\n",
        "  def remove_stopwords(texts):\n",
        "      return [[word for word in simple_preprocess(str(doc)) if word not in stop_words] for doc in texts]\n",
        "\n",
        "  data_words_nostops = remove_stopwords(data)\n",
        "\n",
        "  # Create Dictionary \n",
        "  id2word = corpora.Dictionary(data_words_nostops)  \n",
        "  # Create Corpus \n",
        "  texts = data_words_nostops  \n",
        "  # Term Document Frequency \n",
        "  corpus = [id2word.doc2bow(text) for text in texts]  \n",
        "\n",
        "  words = []\n",
        "  for word in texts:\n",
        "    words.extend(word)\n",
        "\n",
        "  return corpus, id2word, words"
      ],
      "execution_count": null,
      "outputs": []
    },
    {
      "cell_type": "code",
      "metadata": {
        "id": "2oXcXqSne9Ax"
      },
      "source": [
        "corpus, id2word, words = preprocess_lda(titles)"
      ],
      "execution_count": null,
      "outputs": []
    },
    {
      "cell_type": "code",
      "metadata": {
        "colab": {
          "base_uri": "https://localhost:8080/"
        },
        "id": "sFHfjqZmUI6i",
        "outputId": "c8f26f94-c801-4291-a592-f988430576bb"
      },
      "source": [
        "# topics = lda_model.get_topics()\n",
        "# # sim = []\n",
        "\n",
        "# # for i in range(10):\n",
        "# #   for j in range(i,10):\n",
        "# #     cs = cosine_similarity(topics[i], topics[j]) \n",
        "# #     sim.append(cs)\n",
        "\n",
        "# all_sims = cosine_similarity(topics)  # all pairwise similarities\n",
        "# all_sims.mean()"
      ],
      "execution_count": null,
      "outputs": [
        {
          "output_type": "execute_result",
          "data": {
            "text/plain": [
              "0.3715517"
            ]
          },
          "metadata": {
            "tags": []
          },
          "execution_count": 34
        }
      ]
    },
    {
      "cell_type": "code",
      "metadata": {
        "colab": {
          "base_uri": "https://localhost:8080/"
        },
        "id": "06PQRVNmCNgR",
        "outputId": "56eb82dc-bb1a-48c9-aaa2-4ae6a67e8b23"
      },
      "source": [
        "from gensim.models import KeyedVectors\n",
        "# Load vectors directly from the file\n",
        "model = KeyedVectors.load_word2vec_format('drive/MyDrive/LBNL/GoogleNews-vectors-negative300.bin', binary=True)\n",
        "# Access vectors for specific words with a keyed lookup:\n",
        "vector = model['easy']\n",
        "# see the shape of the vector (300,)\n",
        "vector.shape\n",
        "# Processing sentences is not as simple as with Spacy:\n",
        "# vectors = [model[x] for x in \"This is some text I am processing with Spacy\".split(' ')]"
      ],
      "execution_count": null,
      "outputs": [
        {
          "output_type": "execute_result",
          "data": {
            "text/plain": [
              "(300,)"
            ]
          },
          "metadata": {
            "tags": []
          },
          "execution_count": 59
        }
      ]
    },
    {
      "cell_type": "code",
      "metadata": {
        "colab": {
          "base_uri": "https://localhost:8080/"
        },
        "id": "BtM1tTNVhQHQ",
        "outputId": "ec184343-8e31-4ba6-b458-deb34ce68202"
      },
      "source": [
        "def get_sim(num_topics):\n",
        "  lda_model = gensim.models.ldamodel.LdaModel(corpus=corpus,\n",
        "                                            id2word=id2word,\n",
        "                                            num_topics=num_topics, \n",
        "                                            random_state=100,\n",
        "                                            update_every=1,\n",
        "                                            #  chunksize=100,\n",
        "                                            passes=30,\n",
        "                                            alpha='auto',\n",
        "                                            per_word_topics=True)\n",
        "\n",
        "  similarity_list = []\n",
        "\n",
        "  for i in range(num_topics):\n",
        "    terms_1 = [id2word[term[0]] for term in lda_model.get_topic_terms(i)]\n",
        "    for j in range(i,num_topics):\n",
        "      terms_2 = [id2word[term[0]] for term in lda_model.get_topic_terms(j)]\n",
        "      cs = 0\n",
        "      count = 0\n",
        "      # print(terms_1, terms_2)\n",
        "      for val1 in terms_1:\n",
        "        for val2 in terms_2:\n",
        "          # print(val1,val2)\n",
        "          if(val1 in model and val2 in model):\n",
        "            count += 1\n",
        "            cs += cosine_similarity(model[[val1]],model[[val2]])[0][0]\n",
        "      cs = cs/count\n",
        "      similarity_list.append(cs)\n",
        "      # print(count)\n",
        "\n",
        "  return np.array(similarity_list).mean()\n",
        "\n",
        "x = range(5,50,5)\n",
        "topic_sim_num = []\n",
        "\n",
        "for i in x:\n",
        "  a = get_sim(i)\n",
        "  print(a)\n",
        "  topic_sim_num.append(a)"
      ],
      "execution_count": null,
      "outputs": [
        {
          "output_type": "stream",
          "text": [
            "0.1720442060098673\n",
            "0.14868157073165905\n",
            "0.14806278182411206\n",
            "0.14119866497131087\n",
            "0.13456991750239486\n",
            "0.13655664064268147\n",
            "0.12856989346345232\n",
            "0.13420729924862024\n",
            "0.1266960354480376\n"
          ],
          "name": "stdout"
        }
      ]
    },
    {
      "cell_type": "code",
      "metadata": {
        "colab": {
          "base_uri": "https://localhost:8080/",
          "height": 312
        },
        "id": "7gfMB4xA7TA0",
        "outputId": "2e28a031-371a-4e72-8c77-ccd0e48ffebe"
      },
      "source": [
        "plt.plot(x,topic_sim_num)\n",
        "plt.title(\"Topic similarity Vs Number of Topics - Titles\")\n",
        "plt.xlabel(\"Number of topics\")\n",
        "plt.ylabel(\"Topic similarity (Cosine)\")"
      ],
      "execution_count": null,
      "outputs": [
        {
          "output_type": "execute_result",
          "data": {
            "text/plain": [
              "Text(0, 0.5, 'Topic similarity (Cosine)')"
            ]
          },
          "metadata": {
            "tags": []
          },
          "execution_count": 101
        },
        {
          "output_type": "display_data",
          "data": {
            "image/png": "[encoded data removed]",
            "text/plain": [
              "<Figure size 432x288 with 1 Axes>"
            ]
          },
          "metadata": {
            "tags": [],
            "needs_background": "light"
          }
        }
      ]
    },
    {
      "cell_type": "code",
      "metadata": {
        "id": "zwpDRHG0eIcG"
      },
      "source": [
        "lda_model = gensim.models.ldamodel.LdaModel(corpus=corpus,\n",
        "                                            id2word=id2word,\n",
        "                                            num_topics=25, \n",
        "                                            random_state=100,\n",
        "                                            update_every=1,\n",
        "                                            #  chunksize=100,\n",
        "                                            passes=30,\n",
        "                                            alpha='auto',\n",
        "                                            per_word_topics=True)"
      ],
      "execution_count": null,
      "outputs": []
    },
    {
      "cell_type": "code",
      "metadata": {
        "colab": {
          "base_uri": "https://localhost:8080/"
        },
        "id": "WcTfBRqkan4u",
        "outputId": "097f16d0-fa4f-41f8-c31d-716949868312"
      },
      "source": [
        "# for topic in lda_model.print_topics():\n",
        "#   print(topic)\n",
        "\n",
        "for i in range(25):\n",
        "  terms = lda_model.get_topic_terms(i)\n",
        "  print([id2word[term[0]] for term in terms])"
      ],
      "execution_count": null,
      "outputs": [
        {
          "output_type": "stream",
          "text": [
            "['scale', 'study', 'carbon', 'transport', 'modeling', 'direct', 'oxidation', 'pore', 'media', 'experimental']\n",
            "['bone', 'water', 'pressure', 'porosity', 'uptake', 'properties', 'thermal', 'pore', 'pbx', 'leaf']\n",
            "['mechanical', 'size', 'high', 'based', 'properties', 'vitis', 'vinifera', 'bone', 'scaffolds', 'fabrication']\n",
            "['porous', 'scale', 'modeling', 'layers', 'numerical', 'study', 'transport', 'pumice', 'energy', 'sic']\n",
            "['solid', 'materials', 'biological', 'lithium', 'electrolyte', 'batteries', 'rhizosphere', 'multiple', 'using', 'synchrotron']\n",
            "['dimensional', 'micro', 'ct', 'using', 'segmentation', 'materials', 'multiscale', 'energy', 'two', 'three']\n",
            "['study', 'growth', 'structure', 'strength', 'across', 'thermal', 'textile', 'composites', 'ceramic', 'dimensional']\n",
            "['tomography', 'ray', 'computed', 'using', 'micro', 'high', 'synchrotron', 'resolution', 'situ', 'water']\n",
            "['using', 'synchrotron', 'effects', 'radiation', 'microtomography', 'prediction', 'imaging', 'bone', 'properties', 'temperature']\n",
            "['using', 'steel', 'damage', 'bone', 'strong', 'dynamics', 'cement', 'dendrite', 'stainless', 'model']\n",
            "['failure', 'water', 'xylem', 'bone', 'phase', 'remodeling', 'free', 'pressure', 'embolism', 'hydraulic']\n",
            "['based', 'explosives', 'voids', 'data', 'tatb', 'microstructure', 'limestone', 'evolution', 'ray', 'situ']\n",
            "['cells', 'fuel', 'using', 'synchrotron', 'structured', 'additive', 'induced', 'new', 'laser', 'ct']\n",
            "['coupling', 'imaging', 'sapling', 'stored', 'effective', 'postmortem', 'processing', 'cavitation', 'discharge', 'studies']\n",
            "['interfacial', 'porous', 'fluid', 'microtomography', 'properties', 'mechanical', 'effects', 'encelia', 'despite', 'desert']\n",
            "['gas', 'xylem', 'embolism', 'diffusion', 'micro', 'carbon', 'strong', 'effect', 'macroscopic', 'inspired']\n",
            "['microtomography', 'lithium', 'block', 'copolymer', 'metal', 'ray', 'electrolyte', 'using', 'eruption', 'batteries']\n",
            "['bone', 'human', 'fracture', 'cortical', 'ray', 'toughness', 'synchrotron', 'microtomography', 'water', 'embolism']\n",
            "['ray', 'micro', 'advanced', 'source', 'light', 'ceramic', 'synchrotron', 'composites', 'tomography', 'study']\n",
            "['aging', 'bone', 'embolism', 'toughness', 'water', 'transport', 'polymer', 'implications', 'osteogenesis', 'imperfecta']\n",
            "['high', 'ray', 'synchrotron', 'microtomography', 'resolution', 'composite', 'energy', 'student', 'award', 'smith']\n",
            "['pore', 'scale', 'modeling', 'experiments', 'imaging', 'effects', 'co', 'ray', 'dissolution', 'flow']\n",
            "['bone', 'material', 'biological', 'experiments', 'development', 'calibration', 'reactive', 'evolution', 'structural', 'processes']\n",
            "['mineral', 'evaluation', 'polyplacophora', 'data', 'accessible', 'scientific', 'polymer', 'imaging', 'low', 'density']\n",
            "['carbon', 'bone', 'new', 'electrode', 'associated', 'reactive', 'transport', 'simulation', 'oxide', 'battery']\n"
          ],
          "name": "stdout"
        }
      ]
    },
    {
      "cell_type": "code",
      "metadata": {
        "id": "p6G1-pZ10nqS"
      },
      "source": [
        "# for href in hrefs[0:15]:\n",
        "#   if(len(href) > 0):\n",
        "#     wd1 = get_driver()\n",
        "#     wd1.get(href) \n",
        "#     # print(wd1.page_source)\n",
        "#     bs = BeautifulSoup(wd1.page_source)\n",
        "#     ps = bs.find(lambda tag: tag.name=='p')\n",
        "#     print(ps)"
      ],
      "execution_count": null,
      "outputs": []
    },
    {
      "cell_type": "code",
      "metadata": {
        "id": "GiXuvJJo0pJK"
      },
      "source": [
        "# # open it, go to a website, and get results\n",
        "# wd = get_driver()\n",
        "\n",
        "# items = []\n",
        "\n",
        "# for i in range(1,2):\n",
        "#   wd.get('https://alsusweb.lbl.gov:1024/4DCGI/WEB_GetForm/PublicationSearch.shtml/Initialize') \n",
        "#   select = Select(wd.find_element_by_xpath(\"//select[@name='PUB_Beamline']\"))\n",
        "#   select.select_by_value(\"8.3.2 (Tomography)\")\n",
        "\n",
        "#   wd.find_element_by_name('Submit').click()\n",
        "#   time.sleep(5)\n",
        "#   link = wd.find_element_by_link_text(\"(doi:10.1089/3dp.2019.0200)\")\n",
        "#   wd.execute_script('arguments[0].click()', link)\n",
        "#   # wd.find_element_by_partial_link_text(\"(doi:10.1089/3dp.2019.0200)\").click()\n",
        "#   # print(link.get_attribute('href'))\n",
        "\n",
        "#   bs = BeautifulSoup(wd.page_source,'html5lib')\n",
        "#   ps = bs.find(lambda tag: tag.name=='p') \n",
        "#   print(ps)"
      ],
      "execution_count": null,
      "outputs": []
    },
    {
      "cell_type": "code",
      "metadata": {
        "id": "dTloNSc7GqFh"
      },
      "source": [
        "import pandas as pd"
      ],
      "execution_count": null,
      "outputs": []
    },
    {
      "cell_type": "code",
      "metadata": {
        "id": "IoSNy96WL0Pr"
      },
      "source": [
        "df = pd.read_table('Pubs.xls')\n",
        "abstracts = list(df[~df['Abstract'].isna()]['Abstract'])"
      ],
      "execution_count": null,
      "outputs": []
    },
    {
      "cell_type": "code",
      "metadata": {
        "id": "df4bJZkDfOXs"
      },
      "source": [
        "corpus_abs, id2word_abs, words_abs = preprocess_lda(abstracts)"
      ],
      "execution_count": null,
      "outputs": []
    },
    {
      "cell_type": "code",
      "metadata": {
        "colab": {
          "base_uri": "https://localhost:8080/"
        },
        "id": "Q0f9KRPwWafn",
        "outputId": "6f652f45-ecb3-40d1-afee-c46c398a5e66"
      },
      "source": [
        "def get_sim(num_topics):\n",
        "  lda_model = gensim.models.ldamodel.LdaModel(corpus=corpus_abs,\n",
        "                                            id2word=id2word_abs,\n",
        "                                            num_topics=num_topics, \n",
        "                                            random_state=100,\n",
        "                                            update_every=1,\n",
        "                                            #  chunksize=100,\n",
        "                                            passes=30,\n",
        "                                            alpha='auto',\n",
        "                                            per_word_topics=True)\n",
        "\n",
        "  similarity_list = []\n",
        "\n",
        "  for i in range(num_topics):\n",
        "    terms_1 = [id2word_abs[term[0]] for term in lda_model.get_topic_terms(i)]\n",
        "    for j in range(i,num_topics):\n",
        "      terms_2 = [id2word_abs[term[0]] for term in lda_model.get_topic_terms(j)]\n",
        "      cs = 0\n",
        "      count = 0\n",
        "      # print(terms_1, terms_2)\n",
        "      for val1 in terms_1:\n",
        "        for val2 in terms_2:\n",
        "          # print(val1,val2)\n",
        "          if(val1 in model and val2 in model):\n",
        "            count += 1\n",
        "            cs += cosine_similarity(model[[val1]],model[[val2]])[0][0]\n",
        "      cs = cs/count\n",
        "      similarity_list.append(cs)\n",
        "      # print(count)\n",
        "\n",
        "  return np.array(similarity_list).mean()\n",
        "\n",
        "x = range(5,50,5)\n",
        "topic_sim_num = []\n",
        "\n",
        "for i in x:\n",
        "  a = get_sim(i)\n",
        "  print(a)\n",
        "  topic_sim_num.append(a)"
      ],
      "execution_count": null,
      "outputs": [
        {
          "output_type": "stream",
          "text": [
            "0.14347996662630855\n",
            "0.1331232863701999\n",
            "0.1282598894481103\n",
            "0.12348910123845083\n",
            "0.1222129035972635\n",
            "0.12174680032493819\n",
            "0.124699498956117\n",
            "0.11900004271030581\n",
            "0.11862458619543913\n"
          ],
          "name": "stdout"
        }
      ]
    },
    {
      "cell_type": "code",
      "metadata": {
        "colab": {
          "base_uri": "https://localhost:8080/",
          "height": 312
        },
        "id": "kfisUOls-MtD",
        "outputId": "28616923-b57c-4f6d-ef07-a636f5335408"
      },
      "source": [
        "plt.plot(x,topic_sim_num)\n",
        "plt.title(\"Topic similarity Vs Number of Topics - Abstracts\")\n",
        "plt.xlabel(\"Number of topics\")\n",
        "plt.ylabel(\"Topic similarity (Cosine)\")"
      ],
      "execution_count": null,
      "outputs": [
        {
          "output_type": "execute_result",
          "data": {
            "text/plain": [
              "Text(0, 0.5, 'Topic similarity (Cosine)')"
            ]
          },
          "metadata": {
            "tags": []
          },
          "execution_count": 96
        },
        {
          "output_type": "display_data",
          "data": {
            "image/png": "[encoded data removed]",
            "text/plain": [
              "<Figure size 432x288 with 1 Axes>"
            ]
          },
          "metadata": {
            "tags": [],
            "needs_background": "light"
          }
        }
      ]
    },
    {
      "cell_type": "code",
      "metadata": {
        "colab": {
          "base_uri": "https://localhost:8080/"
        },
        "id": "5crjswQmNyxb",
        "outputId": "031a47b3-49d6-4ec3-9d8b-5e0c5eb07e89"
      },
      "source": [
        "len(titles),len(abstracts)"
      ],
      "execution_count": null,
      "outputs": [
        {
          "output_type": "execute_result",
          "data": {
            "text/plain": [
              "(395, 257)"
            ]
          },
          "metadata": {
            "tags": []
          },
          "execution_count": 22
        }
      ]
    },
    {
      "cell_type": "code",
      "metadata": {
        "id": "_NMQY2CiNoLm"
      },
      "source": [
        "lda_model_abs = gensim.models.ldamodel.LdaModel(corpus=corpus_abs,\n",
        "                                           id2word=id2word_abs,\n",
        "                                           num_topics=10, \n",
        "                                           random_state=100,\n",
        "                                           update_every=1,\n",
        "                                          #  chunksize=100,\n",
        "                                           passes=30,\n",
        "                                           alpha='auto',\n",
        "                                           per_word_topics=True)"
      ],
      "execution_count": null,
      "outputs": []
    },
    {
      "cell_type": "code",
      "metadata": {
        "colab": {
          "base_uri": "https://localhost:8080/"
        },
        "id": "qh15Dd63Non1",
        "outputId": "ef2e090f-936d-4718-e20f-2baab8bcc574"
      },
      "source": [
        "for i in range(10):\n",
        "  terms = lda_model_abs.get_topic_terms(i)\n",
        "  print([id2word_abs[term[0]] for term in terms])"
      ],
      "execution_count": null,
      "outputs": [
        {
          "output_type": "stream",
          "text": [
            "['energy', 'mechanical', 'ash', 'properties', 'scaffolds', 'structure', 'conversion', 'high', 'analysis', 'different']\n",
            "['sup', 'pumice', 'phase', 'ray', 'eruption', 'high', 'magma', 'samples', 'using', 'water']\n",
            "['bone', 'crack', 'properties', 'toughness', 'fracture', 'growth', 'age', 'trabecular', 'strength', 'human']\n",
            "['ray', 'fracture', 'cement', 'ct', 'tomography', 'mechanical', 'properties', 'collagen', 'study', 'using']\n",
            "['xylem', 'water', 'vessel', 'embolism', 'vessels', 'drought', 'species', 'hydraulic', 'plant', 'plants']\n",
            "['magma', 'specimens', 'cell', 'computed', 'textile', 'alteration', 'mode', 'mixing', 'tomography', 'conditions']\n",
            "['lithium', 'inf', 'sup', 'batteries', 'density', 'scaffolds', 'solid', 'electrolyte', 'dendrite', 'porosity']\n",
            "['data', 'inf', 'ray', 'area', 'experiments', 'surface', 'using', 'experimental', 'rates', 'carbonate']\n",
            "['bone', 'ray', 'water', 'cells', 'catalyst', 'scales', 'tomography', 'transport', 'fracture', 'mineral']\n",
            "['inf', 'data', 'pore', 'materials', 'ray', 'high', 'using', 'flow', 'analysis', 'used']\n"
          ],
          "name": "stdout"
        }
      ]
    },
    {
      "cell_type": "code",
      "metadata": {
        "id": "X3gNMjDVN7v_"
      },
      "source": [
        "indices = df['Title'].isna()\n",
        "df.loc[indices,'Title'] = \"\""
      ],
      "execution_count": null,
      "outputs": []
    },
    {
      "cell_type": "code",
      "metadata": {
        "id": "QBDDpxkTfexO"
      },
      "source": [
        "indices = df['Abstract'].isna()\n",
        "df.loc[indices,'Abstract'] = \"\""
      ],
      "execution_count": null,
      "outputs": []
    },
    {
      "cell_type": "code",
      "metadata": {
        "id": "P_W1adhHgT7R"
      },
      "source": [
        "df['Combined'] = df['Title'] + \" \" + df['Abstract']"
      ],
      "execution_count": null,
      "outputs": []
    },
    {
      "cell_type": "code",
      "metadata": {
        "id": "RD_tYyqHguI-"
      },
      "source": [
        "combined = list(df['Combined'])"
      ],
      "execution_count": null,
      "outputs": []
    },
    {
      "cell_type": "code",
      "metadata": {
        "id": "pQqwCP5MhQFO"
      },
      "source": [
        "corpus_comb, id2word_comb, words_comb = preprocess_lda(combined)"
      ],
      "execution_count": null,
      "outputs": []
    },
    {
      "cell_type": "code",
      "metadata": {
        "colab": {
          "base_uri": "https://localhost:8080/",
          "height": 486
        },
        "id": "09fCQVEgedZb",
        "outputId": "818d91a3-9f7b-4577-8bee-0944d9baa30d"
      },
      "source": [
        "def get_sim(num_topics):\n",
        "  lda_model = gensim.models.ldamodel.LdaModel(corpus=corpus_comb,\n",
        "                                            id2word=id2word_comb,\n",
        "                                            num_topics=num_topics, \n",
        "                                            random_state=100,\n",
        "                                            update_every=1,\n",
        "                                            #  chunksize=100,\n",
        "                                            passes=30,\n",
        "                                            alpha='auto',\n",
        "                                            per_word_topics=True)\n",
        "\n",
        "  topics = lda_model.get_topics()\n",
        "  all_sims = cosine_similarity(topics)  # all pairwise similarities\n",
        "  return all_sims.mean()\n",
        "\n",
        "x = range(10,70,5)\n",
        "topic_sim_num = []\n",
        "\n",
        "for i in x:\n",
        "  a = get_sim(i)\n",
        "  print(a)\n",
        "  topic_sim_num.append(a)\n",
        "\n",
        "plt.plot(x,topic_sim_num)"
      ],
      "execution_count": null,
      "outputs": [
        {
          "output_type": "stream",
          "text": [
            "0.41467923\n",
            "0.3468267\n",
            "0.31986806\n",
            "0.2649727\n",
            "0.25188085\n",
            "0.24895754\n",
            "0.21908581\n",
            "0.19346125\n",
            "0.18586199\n",
            "0.16839004\n",
            "0.1684649\n",
            "0.15296063\n"
          ],
          "name": "stdout"
        },
        {
          "output_type": "execute_result",
          "data": {
            "text/plain": [
              "[<matplotlib.lines.Line2D at 0x7fe8075eefd0>]"
            ]
          },
          "metadata": {
            "tags": []
          },
          "execution_count": 56
        },
        {
          "output_type": "display_data",
          "data": {
            "image/png": "[encoded data removed]",
            "text/plain": [
              "<Figure size 432x288 with 1 Axes>"
            ]
          },
          "metadata": {
            "tags": [],
            "needs_background": "light"
          }
        }
      ]
    },
    {
      "cell_type": "code",
      "metadata": {
        "id": "KL5dhXFNhUDQ"
      },
      "source": [
        "lda_model_comb = gensim.models.ldamodel.LdaModel(corpus=corpus_comb,\n",
        "                                           id2word=id2word_comb,\n",
        "                                           num_topics=25, \n",
        "                                           random_state=100,\n",
        "                                           update_every=1,\n",
        "                                          #  chunksize=100,\n",
        "                                           passes=30,\n",
        "                                           alpha='auto',\n",
        "                                           per_word_topics=True)"
      ],
      "execution_count": null,
      "outputs": []
    },
    {
      "cell_type": "code",
      "metadata": {
        "colab": {
          "base_uri": "https://localhost:8080/"
        },
        "id": "WQ_sj8kihaV5",
        "outputId": "f3a00695-15bf-4dc8-f40d-b8c07f9b4350"
      },
      "source": [
        "for i in range(25):\n",
        "  terms = lda_model_comb.get_topic_terms(i)\n",
        "  print([id2word_comb[term[0]] for term in terms])"
      ],
      "execution_count": null,
      "outputs": [
        {
          "output_type": "stream",
          "text": [
            "['water', 'transport', 'scale', 'ray', 'porous', 'tomography', 'pore', 'layers', 'gas', 'diffusion']\n",
            "['vessel', 'xylem', 'vessels', 'plant', 'tomography', 'ray', 'connections', 'using', 'species', 'water']\n",
            "['scaffolds', 'bone', 'inf', 'glass', 'nb', 'zr', 'pore', 'bioactive', 'structures', 'repair']\n",
            "['advanced', 'source', 'experiments', 'data', 'volume', 'synchrotron', 'light', 'algorithms', 'new', 'dentin']\n",
            "['sup', 'ray', 'synchrotron', 'using', 'formation', 'species', 'tomography', 'high', 'pressure', 'eruption']\n",
            "['textile', 'data', 'nzvi', 'tomography', 'pd', 'tow', 'carbon', 'stochastic', 'specimens', 'solder']\n",
            "['image', 'analysis', 'area', 'using', 'algorithm', 'data', 'algorithms', 'study', 'estimates', 'parallel']\n",
            "['ray', 'pore', 'flow', 'data', 'permeability', 'study', 'using', 'used', 'temperature', 'synchrotron']\n",
            "['magma', 'host', 'mixing', 'data', 'dike', 'phase', 'genes', 'latent', 'inoculated', 'enclaves']\n",
            "['inf', 'xylem', 'water', 'hydraulic', 'pumice', 'flow', 'sup', 'embolism', 'drought', 'experiments']\n",
            "['bone', 'fracture', 'crack', 'toughness', 'collagen', 'scales', 'ray', 'resistance', 'cortical', 'properties']\n",
            "['data', 'bubbles', 'lattice', 'tomography', 'ray', 'strain', 'users', 'high', 'fragmentation', 'foam']\n",
            "['bone', 'properties', 'tissue', 'power', 'material', 'osteogenesis', 'imperfecta', 'parts', 'matrix', 'synchrotron']\n",
            "['ray', 'tomography', 'oxygen', 'solid', 'llzo', 'high', 'electrolyzer', 'transport', 'fiber', 'current']\n",
            "['crystallization', 'pressure', 'flowers', 'high', 'deformation', 'stress', 'water', 'fluid', 'measurements', 'preferred']\n",
            "['cement', 'reaction', 'alteration', 'wellbore', 'geochemical', 'model', 'ray', 'sup', 'chemical', 'processes']\n",
            "['inf', 'fracture', 'transport', 'carbonate', 'processes', 'modeling', 'strength', 'precipitation', 'proppant', 'micro']\n",
            "['sup', 'inf', 'bone', 'strength', 'ray', 'ias', 'tomography', 'high', 'particles', 'mechanical']\n",
            "['inf', 'data', 'carbonate', 'co', 'permeability', 'dissolution', 'solution', 'xylem', 'experiments', 'sample']\n",
            "['ash', 'conversion', 'fuel', 'ray', 'char', 'formation', 'bone', 'based', 'gcs', 'model']\n",
            "['surface', 'energy', 'structure', 'mineral', 'area', 'scale', 'pore', 'reactive', 'species', 'areas']\n",
            "['bone', 'sup', 'mass', 'mechanical', 'trabecular', 'tgf', 'effects', 'properties', 'multilayer', 'columns']\n",
            "['bone', 'fracture', 'mode', 'cortical', 'mechanical', 'materials', 'toughness', 'osteogenesis', 'imperfecta', 'collagen']\n",
            "['matrix', 'ray', 'high', 'situ', 'sic', 'fiber', 'composites', 'used', 'tomography', 'evolution']\n",
            "['lithium', 'electrolyte', 'electrode', 'batteries', 'metal', 'density', 'cells', 'dendrite', 'electrolytes', 'inf']\n"
          ],
          "name": "stdout"
        }
      ]
    },
    {
      "cell_type": "code",
      "metadata": {
        "colab": {
          "base_uri": "https://localhost:8080/"
        },
        "id": "I2FK_G7khohn",
        "outputId": "a3754851-2eb1-4628-cd38-0ed7128dcf66"
      },
      "source": [
        "len(titles), len(abstracts)"
      ],
      "execution_count": null,
      "outputs": [
        {
          "output_type": "execute_result",
          "data": {
            "text/plain": [
              "(395, 257)"
            ]
          },
          "metadata": {
            "tags": []
          },
          "execution_count": 30
        }
      ]
    }
  ]
}